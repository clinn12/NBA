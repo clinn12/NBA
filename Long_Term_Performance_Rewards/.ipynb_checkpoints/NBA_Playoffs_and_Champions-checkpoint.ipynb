{
 "cells": [
  {
   "cell_type": "markdown",
   "metadata": {},
   "source": [
    "# NBA Team's Performance Based Rewards \n",
    "##### Identifies NBA teams that could be rewared or punished for long term performance."
   ]
  },
  {
   "cell_type": "markdown",
   "metadata": {},
   "source": [
    "### Interface Options"
   ]
  },
  {
   "cell_type": "code",
   "execution_count": 52,
   "metadata": {},
   "outputs": [],
   "source": [
    "#Input Threshold for Playoff Streak & Window\n",
    "playoff_streak_threshold = 8\n",
    "playoff_window_threshold = 10\n",
    "\n",
    "#Input Threshold for Consecutive Championships Steak & Window\n",
    "champ_streak_threshold = 3\n",
    "champ_window_threshold = 5\n",
    "\n",
    "#Input Threshold for Consecutive Conference Championships Steak & Window\n",
    "conference_champ_streak_threshold = 4\n",
    "conference_champ_window_threshold = 6\n",
    "\n",
    "#Input Threshold for Non-Playoff Streak & Window\n",
    "non_playoff_streak_threshold = 5\n",
    "non_playoff_window_threshold = 7\n",
    "\n",
    "#Input Threshold for Lowest Win Streak & Window\n",
    "count_lowest_win_teams = 3\n",
    "lowest_win_streak_threshold = 2\n",
    "lowest_win_window_threshold = 3"
   ]
  },
  {
   "cell_type": "markdown",
   "metadata": {},
   "source": [
    "---"
   ]
  },
  {
   "cell_type": "markdown",
   "metadata": {},
   "source": [
    "### Import Libraries"
   ]
  },
  {
   "cell_type": "code",
   "execution_count": 53,
   "metadata": {},
   "outputs": [],
   "source": [
    "#Import Libraries\n",
    "import pandas as pd\n",
    "import numpy as np\n",
    "import string\n",
    "import os\n",
    "import warnings\n",
    "warnings.filterwarnings(\"ignore\", category=pd.errors.SettingWithCopyWarning)"
   ]
  },
  {
   "cell_type": "markdown",
   "metadata": {},
   "source": [
    "---"
   ]
  },
  {
   "cell_type": "markdown",
   "metadata": {},
   "source": [
    "### Load Data"
   ]
  },
  {
   "cell_type": "code",
   "execution_count": 54,
   "metadata": {},
   "outputs": [],
   "source": [
    "#Identify Working Directory\n",
    "#print(os.getcwd())"
   ]
  },
  {
   "cell_type": "code",
   "execution_count": 55,
   "metadata": {},
   "outputs": [],
   "source": [
    "#Read Standings Data File\n",
    "standings_df = pd.read_csv('nba_standings.csv')\n",
    "\n",
    "#Read Playoffs Data File\n",
    "playoffs_df = pd.read_csv('nba_playoffs.csv')"
   ]
  },
  {
   "cell_type": "markdown",
   "metadata": {},
   "source": [
    "---"
   ]
  },
  {
   "cell_type": "markdown",
   "metadata": {},
   "source": [
    "### Clean & Prepare Data"
   ]
  },
  {
   "cell_type": "code",
   "execution_count": 56,
   "metadata": {},
   "outputs": [],
   "source": [
    "#Direct Team Name Mappings\n",
    "team_mapping = {\n",
    "    'New Orleans Hornets': 'New Orleans Pelicans',\n",
    "    'New Orleans/Oklahoma City Hornets': 'New Orleans Pelicans',\n",
    "    'New Jersey Nets': 'Brooklyn Nets',\n",
    "    'New York Nets': 'Brooklyn Nets',\n",
    "    'Vancouver Grizzlies': 'Memphis Grizzlies',\n",
    "    'Charlotte Bobcats': 'Charlotte Hornets',\n",
    "    'Washington Bullets': 'Washington Wizards',\n",
    "    'Baltimore Bullets': 'Washington Wizards',\n",
    "    'Capital Bullets': 'Washington Wizards',\n",
    "    'Chicago Packers': 'Washington Wizards',\n",
    "    'Chicago Zephyrs': 'Washington Wizards',\n",
    "    'Kansas City Kings': 'Sacramento Kings',\n",
    "    'Kansas City-Omaha Kings': 'Sacramento Kings',\n",
    "    'Cincinnati Royals': 'Sacramento Kings',\n",
    "    'San Diego Clippers': 'Los Angeles Clippers',\n",
    "    'Buffalo Braves': 'Los Angeles Clippers',\n",
    "    'San Francisco Warriors': 'Golden State Warriors',\n",
    "    'Philadelphia Warriors': 'Golden State Warriors',\n",
    "    'San Diego Rockets': 'Houston Rockets',\n",
    "    'New Orleans Jazz': 'Utah Jazz',\n",
    "    'Syracuse Nationals': 'Philadelphia 76ers',\n",
    "    'St. Louis Hawks': 'Atlanta Hawks',\n",
    "    'Minneapolis Lakers': 'Los Angeles Lakers'\n",
    "}\n",
    "\n",
    "#Apply the Direct Team Name Mapping\n",
    "standings_df['Team'] = standings_df['Team'].replace(team_mapping)\n",
    "playoffs_df['Team'] = playoffs_df['Team'].replace(team_mapping)\n",
    "\n",
    "#Handle special year-based changes. I am assuming Seattle will receive another team in the future. Accounting for this now.\n",
    "standings_df.loc[(standings_df['Team'] == 'Charlotte Hornets') & (standings_df['Year'] <= 2002), 'Team'] = 'New Orleans Pelicans'\n",
    "standings_df.loc[(standings_df['Team'] == 'Seattle SuperSonics') & (standings_df['Year'] <= 2008), 'Team'] = 'Oklahoma City Thunder'\n",
    "playoffs_df.loc[(playoffs_df['Team'] == 'Charlotte Hornets') & (playoffs_df['Year'] <= 2002), 'Team'] = 'New Orleans Pelicans'\n",
    "playoffs_df.loc[(playoffs_df['Team'] == 'Seattle SuperSonics') & (playoffs_df['Year'] <= 2008), 'Team'] = 'Oklahoma City Thunder'"
   ]
  },
  {
   "cell_type": "code",
   "execution_count": 57,
   "metadata": {},
   "outputs": [],
   "source": [
    "#Create Playoff Teams Dataframe\n",
    "playoff_teams = playoffs_df[['Year','Team','Wins','Champion','Conference_Champion']]\n",
    "\n",
    "#Create Champion Teams Dataframe\n",
    "champ_teams = playoff_teams[playoff_teams['Champion'] == 1]\n",
    "\n",
    "#Create Conference Champion Teams Dataframe\n",
    "conference_champ_teams = playoff_teams[playoff_teams['Conference_Champion'] == 1]\n",
    "\n",
    "#Create Non-Playoff Teams Dataframe\n",
    "non_playoff_teams = pd.merge(standings_df,\n",
    "                             playoff_teams,\n",
    "                             on = ['Team','Year'],\n",
    "                             how = 'left',\n",
    "                             indicator = True)\n",
    "non_playoff_teams = non_playoff_teams[non_playoff_teams['_merge'] == 'left_only']\n",
    "non_playoff_teams = non_playoff_teams[['Year','Team','Conference','W','L','WL_pct','GB','PPG','OPPG','SRS']]\n",
    "\n",
    "#Create Lowest Win Teams Dataframe\n",
    "lowest_win_teams = non_playoff_teams.sort_values(['Year', 'WL_pct'])\n",
    "lowest_win_teams = lowest_win_teams.groupby('Year').head(count_lowest_win_teams)"
   ]
  },
  {
   "cell_type": "markdown",
   "metadata": {},
   "source": [
    "---"
   ]
  },
  {
   "cell_type": "markdown",
   "metadata": {},
   "source": [
    "### Create Functions to Identify Teams Meeting Streak Requirements"
   ]
  },
  {
   "cell_type": "code",
   "execution_count": 58,
   "metadata": {},
   "outputs": [],
   "source": [
    "def build_streaks_non_overlapping(data, streak_length):\n",
    "    \"\"\"\n",
    "    Build non-overlapping streaks for each team.\n",
    "\n",
    "    This function identifies continuous runs of years in which a team made a streak,\n",
    "    and then splits those runs into non-overlapping chunks of a given length.\n",
    "    Only complete streaks of exactly `streak_length` years are included in the output.\n",
    "    Any leftover years at the end of a run that do not meet the required length are discarded.\n",
    "\n",
    "    Parameters\n",
    "    ----------\n",
    "    data : pandas.DataFrame\n",
    "        A DataFrame containing at least:\n",
    "        - 'Team' (team name or identifier)\n",
    "        - 'Year' (year of appearance, integer)\n",
    "    streak_length : int\n",
    "        The required length of consecutive years to count as a streak.\n",
    "\n",
    "    Returns\n",
    "    -------\n",
    "    pandas.DataFrame\n",
    "        A DataFrame with columns:\n",
    "        - 'Team': team name/identifier\n",
    "        - 'Streak_Begin': first year of the streak\n",
    "        - 'Streak_End': last year of the streak\n",
    "        Sorted by Team and Streak_Begin.\n",
    "    \"\"\"\n",
    "    #Sort data by team and year to ensure proper streak calculation\n",
    "    df = data.sort_values([\"Team\", \"Year\"]).reset_index(drop=True)\n",
    "\n",
    "    #Find breaks in consecutive years for each team\n",
    "    #Year_Diff > 1 indicates a gap (non-consecutive years)\n",
    "    df[\"Year_Diff\"] = df.groupby(\"Team\")[\"Year\"].diff().fillna(1)\n",
    "    df[\"Break\"] = df[\"Year_Diff\"] > 1\n",
    "\n",
    "    #Assign a unique Run_ID to each continuous run of playoff years per team\n",
    "    df[\"Run_ID\"] = df.groupby(\"Team\")[\"Break\"].cumsum()\n",
    "\n",
    "    #Create an object to store results from the below For Loop\n",
    "    results = []\n",
    "\n",
    "    #Process each continuous run separately\n",
    "    for (team, run_id), group in df.groupby([\"Team\", \"Run_ID\"]):\n",
    "        years = group[\"Year\"].tolist()\n",
    "        n = len(years)\n",
    "        idx = 0\n",
    "\n",
    "        #Step through the run in fixed streak_length chunks\n",
    "        while idx + streak_length <= n:\n",
    "            start_year = years[idx]\n",
    "            end_year = years[idx + streak_length - 1]\n",
    "\n",
    "            results.append({\n",
    "                \"Team\": team,\n",
    "                \"Streak_Begin\": start_year,\n",
    "                \"Streak_End\": end_year\n",
    "            })\n",
    "\n",
    "            #Move forward by the streak length to prevent overlap\n",
    "            idx += streak_length\n",
    "\n",
    "    #Return final DataFrame, sorted for readability\n",
    "    return (\n",
    "        pd.DataFrame(results)\n",
    "        .sort_values([\"Team\", \"Streak_Begin\"])\n",
    "        .reset_index(drop=True)\n",
    "    )\n",
    "\n",
    "\n",
    "def find_window_nonoverlap(data, streak, window):\n",
    "    \"\"\"\n",
    "    Identify non-overlapping windows where a team has a specified number of observations\n",
    "    within a given rolling time window.\n",
    "\n",
    "    This function checks each team's years in the data and finds groups of `streak` observations\n",
    "    that occur within `window` consecutive years. Once a qualifying group is found, the search\n",
    "    skips ahead by `streak` years (non-overlapping logic). Multiple qualifying groups inside\n",
    "    the same time range will be recorded separately.\n",
    "\n",
    "    Parameters\n",
    "    ----------\n",
    "    data : pandas.DataFrame\n",
    "        DataFrame containing at least:\n",
    "        - 'Team' (team name or identifier)\n",
    "        - 'Year' (year of appearance, integer)\n",
    "    streak : int\n",
    "        Minimum number of observations required within the window.\n",
    "    window : int\n",
    "        Length of the time window in years (inclusive) to check for the streak.\n",
    "\n",
    "    Returns\n",
    "    -------\n",
    "    pandas.DataFrame\n",
    "        Columns:\n",
    "        - 'Team': team name or identifier\n",
    "        - 'Window_Start': first year in the qualifying window\n",
    "        - 'Window_End': last year in the qualifying window\n",
    "        - 'Count': number of observations in the window (equal to `streak`)\n",
    "        - 'Years_In_Window': list of the years in the window\n",
    "        Sorted by Team and Window_Start.\n",
    "    \"\"\"\n",
    "    #Keep only required columns and clean data\n",
    "    df = data[['Team', 'Year']].dropna().copy()\n",
    "    df['Year'] = df['Year'].astype(int)\n",
    "    df = df.drop_duplicates().sort_values(['Team', 'Year'])\n",
    "\n",
    "    #Create an object to store results from the below For Loop\n",
    "    results = []\n",
    "\n",
    "    #Process each team separately\n",
    "    for team, g in df.groupby('Team', sort=False):\n",
    "        years = g['Year'].tolist()\n",
    "        idx = 0\n",
    "\n",
    "        #Scan through the years\n",
    "        while idx < len(years):\n",
    "            #Ensure there are at least `streak` remaining observations to check\n",
    "            if idx + streak - 1 < len(years):\n",
    "                #Take the first `streak` years starting from idx\n",
    "                candidate_years = years[idx: idx + streak]\n",
    "\n",
    "                #Check if these observations fit within the time window\n",
    "                if candidate_years[-1] - candidate_years[0] <= window - 1:\n",
    "                    results.append({\n",
    "                        'Team': team,\n",
    "                        'Window_Start': candidate_years[0],\n",
    "                        'Window_End': candidate_years[-1],\n",
    "                        'Count': streak,\n",
    "                        'Years_In_Window': candidate_years\n",
    "                    })\n",
    "\n",
    "                    #Move pointer forward by `streak` (non-overlapping)\n",
    "                    idx += streak\n",
    "                    continue\n",
    "\n",
    "            #If not qualifying, move forward by 1 year and re-check\n",
    "            idx += 1\n",
    "\n",
    "    #Return results sorted for readability\n",
    "    return (\n",
    "        pd.DataFrame(results)\n",
    "        .sort_values(['Team', 'Window_Start'])\n",
    "        .reset_index(drop=True)\n",
    "    )"
   ]
  },
  {
   "cell_type": "markdown",
   "metadata": {},
   "source": [
    "---"
   ]
  },
  {
   "cell_type": "markdown",
   "metadata": {},
   "source": [
    "### Run Functions to Identify Teams Meeting Streak Requirements"
   ]
  },
  {
   "cell_type": "code",
   "execution_count": 59,
   "metadata": {},
   "outputs": [],
   "source": [
    "#Update playoff window threshold if it is less than streak\n",
    "if playoff_window_threshold <= playoff_streak_threshold:\n",
    "    playoff_window_threshold = playoff_streak_threshold + 1\n",
    "\n",
    "#Update champ window threshold if it is less than streak\n",
    "if champ_window_threshold <= champ_streak_threshold:\n",
    "    champ_window_threshold = champ_streak_threshold + 1\n",
    "\n",
    "#Update conference champ window threshold if it is less than streak\n",
    "if conference_champ_window_threshold <= conference_champ_streak_threshold:\n",
    "    conference_champ_window_threshold = conference_champ_streak_threshold + 1\n",
    "\n",
    "#Update non playoff window threshold if it is less than streak\n",
    "if non_playoff_window_threshold <= non_playoff_streak_threshold:\n",
    "    non_playoff_window_threshold = non_playoff_streak_threshold + 1\n",
    "\n",
    "#Update lowest win window threshold if it is less than streak\n",
    "if lowest_win_window_threshold <= lowest_win_streak_threshold:\n",
    "    lowest_win_window_threshold = lowest_win_streak_threshold + 1"
   ]
  },
  {
   "cell_type": "code",
   "execution_count": 60,
   "metadata": {},
   "outputs": [],
   "source": [
    "#Run function to identify teams with a Playoff streak and multiple Playoff appearances within a given number of years\n",
    "playoff_streaks = build_streaks_non_overlapping(playoff_teams, playoff_streak_threshold)\n",
    "playoff_windows = find_window_nonoverlap(playoff_teams, playoff_streak_threshold, playoff_window_threshold)\n",
    "\n",
    "#Run function to identify teams with a Championship streak and multiple Championships within a given number of years\n",
    "champ_streaks = build_streaks_non_overlapping(champ_teams, champ_streak_threshold)\n",
    "champ_windows = find_window_nonoverlap(champ_teams, champ_streak_threshold, champ_window_threshold)\n",
    "\n",
    "#Run function to identify teams with a Conference Championship streak and multiple Conference Championships within a given number of years\n",
    "conference_champ_streaks = build_streaks_non_overlapping(conference_champ_teams, conference_champ_streak_threshold)\n",
    "conference_champ_windows = find_window_nonoverlap(conference_champ_teams, conference_champ_streak_threshold, conference_champ_window_threshold)\n",
    "\n",
    "#Run function to identify teams with a Non-Playoff streak and multiple Non-Playoff appearances within a given number of years\n",
    "non_playoff_streaks = build_streaks_non_overlapping(non_playoff_teams, non_playoff_streak_threshold)\n",
    "non_playoff_windows = find_window_nonoverlap(non_playoff_teams, non_playoff_streak_threshold, non_playoff_window_threshold)\n",
    "\n",
    "#Run function to identify teams with a Non-Playoff streak and multiple Non-Playoff appearances within a given number of years\n",
    "lowest_win_streaks = build_streaks_non_overlapping(lowest_win_teams, lowest_win_streak_threshold)\n",
    "lowest_win_windows = find_window_nonoverlap(lowest_win_teams, lowest_win_streak_threshold, lowest_win_window_threshold)"
   ]
  },
  {
   "cell_type": "markdown",
   "metadata": {},
   "source": [
    "---"
   ]
  },
  {
   "cell_type": "markdown",
   "metadata": {},
   "source": [
    "### Save Outputs to csv"
   ]
  },
  {
   "cell_type": "code",
   "execution_count": 71,
   "metadata": {},
   "outputs": [],
   "source": [
    "playoff_streaks.to_csv(\"Output_Playoff_Streaks.csv\", index=False)\n",
    "playoff_windows.to_csv(\"Output_Playoff_Windows.csv\", index=False)\n",
    "champ_streaks.to_csv(\"Output_Championship_Streaks.csv\", index=False)\n",
    "champ_windows.to_csv(\"Output_Championship_Windows.csv\", index=False)\n",
    "conference_champ_streaks.to_csv(\"Output_Conference_Championship_Streaks.csv\", index=False)\n",
    "conference_champ_windows.to_csv(\"Output_Conference_Championship_Windows.csv\", index=False)\n",
    "non_playoff_streaks.to_csv(\"Output_Non_Playoff_Streaks.csv\", index=False)\n",
    "non_playoff_windows.to_csv(\"Output_Non_Playoff_Windows.csv\", index=False)\n",
    "lowest_win_streaks.to_csv(\"Output_Lowest_Win_Streaks.csv\", index=False)\n",
    "lowest_win_windows.to_csv(\"Output_Lowest_Win_Windows.csv\", index=False)"
   ]
  },
  {
   "cell_type": "code",
   "execution_count": null,
   "metadata": {},
   "outputs": [],
   "source": [
    "#The End"
   ]
  }
 ],
 "metadata": {
  "kernelspec": {
   "display_name": "Python [conda env:base] *",
   "language": "python",
   "name": "conda-base-py"
  },
  "language_info": {
   "codemirror_mode": {
    "name": "ipython",
    "version": 3
   },
   "file_extension": ".py",
   "mimetype": "text/x-python",
   "name": "python",
   "nbconvert_exporter": "python",
   "pygments_lexer": "ipython3",
   "version": "3.11.7"
  }
 },
 "nbformat": 4,
 "nbformat_minor": 4
}
