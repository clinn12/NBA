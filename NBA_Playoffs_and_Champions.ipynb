{
 "cells": [
  {
   "cell_type": "markdown",
   "metadata": {},
   "source": [
    "# Interface Options"
   ]
  },
  {
   "cell_type": "code",
   "execution_count": 1,
   "metadata": {},
   "outputs": [],
   "source": [
    "#Teams Continuing to Reach the Playoffs or Consecutive Championships\n",
    "#Interface Options\n",
    "Playoff_Streak = 5\n",
    "Champ_Streak = 1"
       ]
  },
  {
   "cell_type": "markdown",
   "metadata": {},
   "source": [
    "---"
   ]
  },
  {
   "cell_type": "markdown",
   "metadata": {},
   "source": [
    "# Import Libraries and Set Working Directory"
   ]
  },
  {
   "cell_type": "code",
   "execution_count": 2,
   "metadata": {},
   "outputs": [],
   "source": [
    "#Import Libraries\n",
    "import pandas as pd\n",
    "import os\n",
    "import math"
   ]
  },
  {
   "cell_type": "code",
   "execution_count": 3,
   "metadata": {},
   "outputs": [
    {
     "name": "stdout",
     "output_type": "stream",
     "text": [
      "C:\\Users\\clinn\\Documents\\NBA\\NBATeamRewards\n"
     ]
    }
   ],
   "source": [
    "#Working Directory\n",
    "print(os.getcwd())"
   ]
  },
  {
   "cell_type": "code",
   "execution_count": 4,
   "metadata": {},
   "outputs": [],
   "source": [
    "#Change Working Directory\n",
    "#os.chdir('C:\\\\Users\\\\clinn\\\\Documents')"
   ]
  },
  {
   "cell_type": "code",
   "execution_count": 5,
   "metadata": {},
   "outputs": [],
   "source": [
    "#Read Data File\n",
    "data = pd.read_excel('NBA_Playoff_Teams.xlsx')\n",
    "\n",
    "#Or Read File Directly\n",
    "#pd.read_excel('C:\\\\Users\\\\clinn\\\\Documents\\\\NBA_Playoff_Teams.xlsx')"
   ]
  },
  {
   "cell_type": "markdown",
   "metadata": {},
   "source": [
    "---"
   ]
  },
  {
   "cell_type": "markdown",
   "metadata": {},
   "source": [
    "# Data Overview"
   ]
  },
  {
   "cell_type": "code",
   "execution_count": 6,
   "metadata": {},
   "outputs": [],
   "source": [
    "#Number of Observations\n",
    "#len(data)"
   ]
  },
  {
   "cell_type": "code",
   "execution_count": 7,
   "metadata": {},
   "outputs": [],
   "source": [
    "#Number of Columns\n",
    "#len(data.columns)"
   ]
  },
  {
   "cell_type": "code",
   "execution_count": 8,
   "metadata": {},
   "outputs": [],
   "source": [
    "#Column Names\n",
    "#data.columns"
   ]
  },
  {
   "cell_type": "code",
   "execution_count": 9,
   "metadata": {},
   "outputs": [],
   "source": [
    "#Firts 5 Rows\n",
    "#data.head(5)"
   ]
  },
  {
   "cell_type": "code",
   "execution_count": 10,
   "metadata": {},
   "outputs": [],
   "source": [
    "#Last 5 Rows\n",
    "#data.tail(5)"
   ]
  },
  {
   "cell_type": "code",
   "execution_count": 11,
   "metadata": {},
   "outputs": [],
   "source": [
    "#Column Info\n",
    "#data.info()"
   ]
  },
  {
   "cell_type": "code",
   "execution_count": 12,
   "metadata": {},
   "outputs": [],
   "source": [
    "#Column Stats\n",
    "#data.describe().transpose()"
   ]
  },
  {
   "cell_type": "markdown",
   "metadata": {},
   "source": [
    "---"
   ]
  },
  {
   "cell_type": "markdown",
   "metadata": {},
   "source": [
    "# Consecutive Playoff Appearances"
   ]
  },
  {
   "cell_type": "code",
   "execution_count": 13,
   "metadata": {
    "scrolled": true
   },
   "outputs": [],
   "source": [
    "#Sort Data\n",
    "data= data.sort_values(['Team', 'Year'], ascending=[1, 1])"
   ]
  },
  {
   "cell_type": "code",
   "execution_count": 14,
   "metadata": {
    "scrolled": true
   },
   "outputs": [],
   "source": [
    "#Create Variables - These variables will assist in identifing streaks for a particular team\n",
    "#Dummy Year will be used to help identify when a streak began\n",
    "data_PS = data\n",
    "data_PS['Record_ID'] = range(1, 1+len(data_PS))\n",
    "data_PS['Dummy_ID'] = data_PS.Record_ID + Playoff_Streak-1 \n",
    "data_PS['Dummy_Year'] = data_PS.Year + Playoff_Streak-1 \n",
    "#data_PS"
   ]
  },
  {
   "cell_type": "code",
   "execution_count": 15,
   "metadata": {
    "scrolled": true
   },
   "outputs": [],
   "source": [
    "#Join Data to itself to find records where year and ID match dummy variables. These will be teams that have a streak\n",
    "data_PS = pd.merge(data_PS[['Year','Team','Champion','Record_ID']],\n",
    "            data_PS[['Dummy_ID','Dummy_Year','Team']],\n",
    "            left_on=['Record_ID','Team','Year'],\n",
    "            right_on=['Dummy_ID','Team','Dummy_Year'],\n",
    "            how='inner')\n",
    "#data_PS"
   ]
  },
  {
   "cell_type": "code",
   "execution_count": 16,
   "metadata": {
    "scrolled": true
   },
   "outputs": [],
   "source": [
    "#Convert Dummy Variables to Start ID and Streak Begin\n",
    "data_PS.Dummy_ID = data_PS.Record_ID - Playoff_Streak +1\n",
    "data_PS.Dummy_Year = data_PS.Year - Playoff_Streak +1\n",
    "data_PS.columns = ['Year', 'Team','Champion','Record_ID','Start_ID','Streak_Begin']\n",
    "data_PS = data_PS[['Team', 'Year', 'Streak_Begin','Champion','Record_ID','Start_ID']]\n",
    "#data_PS"
   ]
  },
  {
   "cell_type": "code",
   "execution_count": 17,
   "metadata": {
    "scrolled": true
   },
   "outputs": [],
   "source": [
    "#Identify when the next streak will begin after the current streak ends\n",
    "data_PS['Nxt_Streak'] = data_PS.Streak_Begin + Playoff_Streak\n",
    "#data_PS"
   ]
  },
  {
   "cell_type": "code",
   "execution_count": 18,
   "metadata": {
    "scrolled": true
   },
   "outputs": [],
   "source": [
    "#Join Data to itself to identify observations where the next streak (Nxt_Streak_y) can join back into the data\n",
    "data_PS = pd.merge(data_PS[['Team','Year','Streak_Begin','Champion','Record_ID','Start_ID','Nxt_Streak']],\n",
    "            data_PS[['Team','Nxt_Streak']],\n",
    "            left_on=['Team','Streak_Begin'],\n",
    "            right_on=['Team','Nxt_Streak'],\n",
    "            how='left')\n",
    "#data_PS"
   ]
  },
  {
   "cell_type": "code",
   "execution_count": 19,
   "metadata": {
    "scrolled": true
   },
   "outputs": [],
   "source": [
    "#Create new Dummy ID and join data to itself by team and id/dummy id\n",
    "#The purpose of this is to see if the next row occurs within the streak of the previous row. \n",
    "#We will need to remove these in a following filter\n",
    "data_PS['Dummy_ID'] = data_PS.Start_ID +1\n",
    "data_PS = pd.merge(data_PS[['Team','Year','Streak_Begin','Champion','Record_ID','Start_ID','Nxt_Streak_x','Nxt_Streak_y']],\n",
    "            data_PS[['Team','Streak_Begin','Dummy_ID']],\n",
    "            left_on=['Team','Start_ID'],\n",
    "            right_on=['Team','Dummy_ID'],\n",
    "            how='left')\n",
    "#data_PS"
   ]
  },
  {
   "cell_type": "code",
   "execution_count": 20,
   "metadata": {
    "scrolled": true
   },
   "outputs": [],
   "source": [
    "#Create new value for Streak Begin_y and filter data for rows that have a new streak or no consecutive rows in current streak\n",
    "data_PS['Streak_Begin_y'] = data_PS.Streak_Begin_y + Playoff_Streak\n",
    "data_PS_Streak_Start = data_PS[(data_PS.Streak_Begin_y != data_PS.Year)]\n",
    "data_PS_Streak_Continue = data_PS = data_PS[pd.notnull(data_PS.Nxt_Streak_y)]\n",
    "#data_PS = data_PS[pd.notnull(data_PS.Nxt_Streak_y) | (data_PS.Streak_Begin_y != data_PS.Year)]\n",
    "#data_PS\n",
    "#data_PS_Streak_Start\n",
    "#data_PS_Streak_Continue"
   ]
  },
  {
   "cell_type": "code",
   "execution_count": 21,
   "metadata": {
    "scrolled": true
   },
   "outputs": [
    {
     "name": "stdout",
     "output_type": "stream",
     "text": [
      "Finished Playoff Streak Loop\n"
     ]
    }
   ],
   "source": [
    "#Create a loop to go through iterations of joins to find playoff streaks\n",
    "#Create a Dummy_Date to Join back to data. This will give a NAN for the first value\n",
    "#This NAN is the beginning of a new streak and will be unioned to the Streak Start Data\n",
    "\n",
    "while (len(data_PS_Streak_Continue) >0):\n",
    "    data_PS_Streak_Continue['Dummy_Date'] = data_PS_Streak_Continue.Streak_Begin_y + 1\n",
    "    data_PS_Streak_Continue = pd.merge(data_PS_Streak_Continue[['Team','Year','Streak_Begin_x','Champion','Record_ID','Start_ID','Nxt_Streak_x','Nxt_Streak_y','Streak_Begin_y','Dummy_ID']],\n",
    "                data_PS_Streak_Continue[['Team','Dummy_Date']],\n",
    "                left_on=['Team','Year'],\n",
    "                right_on=['Team','Dummy_Date'],\n",
    "                how='left') \n",
    "    data_PS_New_Streak = data_PS_Streak_Continue[pd.isnull(data_PS_Streak_Continue.Dummy_Date)]\n",
    "    data_PS_New_Streak = data_PS_New_Streak.drop(columns=['Dummy_Date'])\n",
    "\n",
    "    #Union dataframes together\n",
    "    frames = [data_PS_Streak_Start, data_PS_New_Streak]\n",
    "    data_PS_Streak_Start = pd.concat(frames, sort=False)\n",
    "\n",
    "    #Remove the consecutuve years that fall between streaks\n",
    "    data_PS_Streak_Continue['Nxt_Streak_y'] = data_PS_Streak_Continue.Nxt_Streak_y + Playoff_Streak\n",
    "    data_PS_Streak_Continue = pd.merge(data_PS_Streak_Continue[['Team','Year','Streak_Begin_x','Champion','Record_ID','Start_ID','Nxt_Streak_x','Nxt_Streak_y','Streak_Begin_y','Dummy_ID']],\n",
    "                data_PS_Streak_Continue[['Team','Nxt_Streak_y']],\n",
    "                left_on=['Team','Streak_Begin_x'],\n",
    "                right_on=['Team','Nxt_Streak_y'],\n",
    "                how='left') \n",
    "    data_PS_Streak_Continue = data_PS_Streak_Continue[pd.notnull(data_PS_Streak_Continue.Nxt_Streak_y_y)]\n",
    "    data_PS_Streak_Continue = data_PS_Streak_Continue.drop(columns=['Nxt_Streak_y_y'])\n",
    "    data_PS_Streak_Continue.columns = ['Team','Year','Streak_Begin_x','Champion','Record_ID','Start_ID','Nxt_Streak_x','Nxt_Streak_y','Streak_Begin_y','Dummy_ID']\n",
    "    data_PS_Streak_Continue['Nxt_Streak_y'] = data_PS_Streak_Continue.Nxt_Streak_y - Playoff_Streak   \n",
    "    #data_PS_Streak_Continue\n",
    "    #data_PS_Streak_Start\n",
    "print ('Finished Playoff Streak Loop')"
   ]
  },
  {
   "cell_type": "code",
   "execution_count": 22,
   "metadata": {
    "scrolled": true
   },
   "outputs": [
    {
     "data": {
      "text/html": [
       "<div>\n",
       "<style scoped>\n",
       "    .dataframe tbody tr th:only-of-type {\n",
       "        vertical-align: middle;\n",
       "    }\n",
       "\n",
       "    .dataframe tbody tr th {\n",
       "        vertical-align: top;\n",
       "    }\n",
       "\n",
       "    .dataframe thead th {\n",
       "        text-align: right;\n",
       "    }\n",
       "</style>\n",
       "<table border=\"1\" class=\"dataframe\">\n",
       "  <thead>\n",
       "    <tr style=\"text-align: right;\">\n",
       "      <th></th>\n",
       "      <th>Team</th>\n",
       "      <th>Streak_Begin</th>\n",
       "      <th>Streak_End</th>\n",
       "    </tr>\n",
       "  </thead>\n",
       "  <tbody>\n",
       "    <tr>\n",
       "      <th>0</th>\n",
       "      <td>Atlanta Hawks</td>\n",
       "      <td>2008</td>\n",
       "      <td>2012</td>\n",
       "    </tr>\n",
       "    <tr>\n",
       "      <th>1</th>\n",
       "      <td>Atlanta Hawks</td>\n",
       "      <td>2013</td>\n",
       "      <td>2017</td>\n",
       "    </tr>\n",
       "    <tr>\n",
       "      <th>2</th>\n",
       "      <td>Boston Celtics</td>\n",
       "      <td>2008</td>\n",
       "      <td>2012</td>\n",
       "    </tr>\n",
       "    <tr>\n",
       "      <th>3</th>\n",
       "      <td>Boston Celtics</td>\n",
       "      <td>2015</td>\n",
       "      <td>2019</td>\n",
       "    </tr>\n",
       "    <tr>\n",
       "      <th>4</th>\n",
       "      <td>Chicago Bulls</td>\n",
       "      <td>2009</td>\n",
       "      <td>2013</td>\n",
       "    </tr>\n",
       "    <tr>\n",
       "      <th>5</th>\n",
       "      <td>Cleveland Cavaliers</td>\n",
       "      <td>2006</td>\n",
       "      <td>2010</td>\n",
       "    </tr>\n",
       "    <tr>\n",
       "      <th>6</th>\n",
       "      <td>Dallas Mavericks</td>\n",
       "      <td>2001</td>\n",
       "      <td>2005</td>\n",
       "    </tr>\n",
       "    <tr>\n",
       "      <th>7</th>\n",
       "      <td>Dallas Mavericks</td>\n",
       "      <td>2006</td>\n",
       "      <td>2010</td>\n",
       "    </tr>\n",
       "    <tr>\n",
       "      <th>8</th>\n",
       "      <td>Denver Nuggets</td>\n",
       "      <td>2004</td>\n",
       "      <td>2008</td>\n",
       "    </tr>\n",
       "    <tr>\n",
       "      <th>9</th>\n",
       "      <td>Denver Nuggets</td>\n",
       "      <td>2009</td>\n",
       "      <td>2013</td>\n",
       "    </tr>\n",
       "    <tr>\n",
       "      <th>10</th>\n",
       "      <td>Detroit Pistons</td>\n",
       "      <td>2002</td>\n",
       "      <td>2006</td>\n",
       "    </tr>\n",
       "    <tr>\n",
       "      <th>11</th>\n",
       "      <td>Golden State Warriors</td>\n",
       "      <td>2013</td>\n",
       "      <td>2017</td>\n",
       "    </tr>\n",
       "    <tr>\n",
       "      <th>12</th>\n",
       "      <td>Houston Rockets</td>\n",
       "      <td>2013</td>\n",
       "      <td>2017</td>\n",
       "    </tr>\n",
       "    <tr>\n",
       "      <th>13</th>\n",
       "      <td>Indiana Pacers</td>\n",
       "      <td>2000</td>\n",
       "      <td>2004</td>\n",
       "    </tr>\n",
       "    <tr>\n",
       "      <th>14</th>\n",
       "      <td>Los Angeles Clippers</td>\n",
       "      <td>2012</td>\n",
       "      <td>2016</td>\n",
       "    </tr>\n",
       "    <tr>\n",
       "      <th>15</th>\n",
       "      <td>Los Angeles Lakers</td>\n",
       "      <td>2000</td>\n",
       "      <td>2004</td>\n",
       "    </tr>\n",
       "    <tr>\n",
       "      <th>16</th>\n",
       "      <td>Los Angeles Lakers</td>\n",
       "      <td>2006</td>\n",
       "      <td>2010</td>\n",
       "    </tr>\n",
       "    <tr>\n",
       "      <th>17</th>\n",
       "      <td>Memphis Grizzlies</td>\n",
       "      <td>2011</td>\n",
       "      <td>2015</td>\n",
       "    </tr>\n",
       "    <tr>\n",
       "      <th>18</th>\n",
       "      <td>Miami Heat</td>\n",
       "      <td>2009</td>\n",
       "      <td>2013</td>\n",
       "    </tr>\n",
       "    <tr>\n",
       "      <th>19</th>\n",
       "      <td>Minnesota Timberwolves</td>\n",
       "      <td>2000</td>\n",
       "      <td>2004</td>\n",
       "    </tr>\n",
       "    <tr>\n",
       "      <th>20</th>\n",
       "      <td>New Jersey Nets</td>\n",
       "      <td>2002</td>\n",
       "      <td>2006</td>\n",
       "    </tr>\n",
       "    <tr>\n",
       "      <th>21</th>\n",
       "      <td>Oklahoma City Thunder</td>\n",
       "      <td>2010</td>\n",
       "      <td>2014</td>\n",
       "    </tr>\n",
       "    <tr>\n",
       "      <th>22</th>\n",
       "      <td>Orlando Magic</td>\n",
       "      <td>2007</td>\n",
       "      <td>2011</td>\n",
       "    </tr>\n",
       "    <tr>\n",
       "      <th>23</th>\n",
       "      <td>Portland Trail Blazers</td>\n",
       "      <td>2014</td>\n",
       "      <td>2018</td>\n",
       "    </tr>\n",
       "    <tr>\n",
       "      <th>24</th>\n",
       "      <td>Sacramento Kings</td>\n",
       "      <td>2000</td>\n",
       "      <td>2004</td>\n",
       "    </tr>\n",
       "    <tr>\n",
       "      <th>25</th>\n",
       "      <td>San Antonio Spurs</td>\n",
       "      <td>2000</td>\n",
       "      <td>2004</td>\n",
       "    </tr>\n",
       "    <tr>\n",
       "      <th>26</th>\n",
       "      <td>San Antonio Spurs</td>\n",
       "      <td>2005</td>\n",
       "      <td>2009</td>\n",
       "    </tr>\n",
       "    <tr>\n",
       "      <th>27</th>\n",
       "      <td>San Antonio Spurs</td>\n",
       "      <td>2010</td>\n",
       "      <td>2014</td>\n",
       "    </tr>\n",
       "    <tr>\n",
       "      <th>28</th>\n",
       "      <td>San Antonio Spurs</td>\n",
       "      <td>2015</td>\n",
       "      <td>2019</td>\n",
       "    </tr>\n",
       "    <tr>\n",
       "      <th>29</th>\n",
       "      <td>Toronto Raptors</td>\n",
       "      <td>2014</td>\n",
       "      <td>2018</td>\n",
       "    </tr>\n",
       "  </tbody>\n",
       "</table>\n",
       "</div>"
      ],
      "text/plain": [
       "                      Team  Streak_Begin  Streak_End\n",
       "0            Atlanta Hawks          2008        2012\n",
       "1            Atlanta Hawks          2013        2017\n",
       "2           Boston Celtics          2008        2012\n",
       "3           Boston Celtics          2015        2019\n",
       "4            Chicago Bulls          2009        2013\n",
       "5      Cleveland Cavaliers          2006        2010\n",
       "6         Dallas Mavericks          2001        2005\n",
       "7         Dallas Mavericks          2006        2010\n",
       "8           Denver Nuggets          2004        2008\n",
       "9           Denver Nuggets          2009        2013\n",
       "10         Detroit Pistons          2002        2006\n",
       "11   Golden State Warriors          2013        2017\n",
       "12         Houston Rockets          2013        2017\n",
       "13          Indiana Pacers          2000        2004\n",
       "14    Los Angeles Clippers          2012        2016\n",
       "15      Los Angeles Lakers          2000        2004\n",
       "16      Los Angeles Lakers          2006        2010\n",
       "17       Memphis Grizzlies          2011        2015\n",
       "18              Miami Heat          2009        2013\n",
       "19  Minnesota Timberwolves          2000        2004\n",
       "20         New Jersey Nets          2002        2006\n",
       "21   Oklahoma City Thunder          2010        2014\n",
       "22           Orlando Magic          2007        2011\n",
       "23  Portland Trail Blazers          2014        2018\n",
       "24        Sacramento Kings          2000        2004\n",
       "25       San Antonio Spurs          2000        2004\n",
       "26       San Antonio Spurs          2005        2009\n",
       "27       San Antonio Spurs          2010        2014\n",
       "28       San Antonio Spurs          2015        2019\n",
       "29         Toronto Raptors          2014        2018"
      ]
     },
     "execution_count": 22,
     "metadata": {},
     "output_type": "execute_result"
    }
   ],
   "source": [
    "#Create Playoff Streaks Table - This identifies all of the streaks given the input parameters\n",
    "Playoff_Streaks = data_PS_Streak_Start.sort_values(['Team', 'Year'], ascending=[1, 1])\n",
    "Playoff_Streaks = Playoff_Streaks.reset_index()\n",
    "Playoff_Streaks = Playoff_Streaks.drop(['Champion','Record_ID','Start_ID','Nxt_Streak_x','Nxt_Streak_y','Streak_Begin_y','Dummy_ID'], axis=1)\n",
    "Playoff_Streaks = Playoff_Streaks[['Team','Streak_Begin_x','Year']]\n",
    "Playoff_Streaks.columns = ['Team','Streak_Begin','Streak_End']\n",
    "Playoff_Streaks"
   ]
  },
  {
   "cell_type": "code",
   "execution_count": 23,
   "metadata": {
    "scrolled": true
   },
   "outputs": [
    {
     "data": {
      "text/html": [
       "<div>\n",
       "<style scoped>\n",
       "    .dataframe tbody tr th:only-of-type {\n",
       "        vertical-align: middle;\n",
       "    }\n",
       "\n",
       "    .dataframe tbody tr th {\n",
       "        vertical-align: top;\n",
       "    }\n",
       "\n",
       "    .dataframe thead th {\n",
       "        text-align: right;\n",
       "    }\n",
       "</style>\n",
       "<table border=\"1\" class=\"dataframe\">\n",
       "  <thead>\n",
       "    <tr style=\"text-align: right;\">\n",
       "      <th></th>\n",
       "      <th>Team</th>\n",
       "      <th>Rewards_Count</th>\n",
       "    </tr>\n",
       "  </thead>\n",
       "  <tbody>\n",
       "    <tr>\n",
       "      <th>0</th>\n",
       "      <td>Atlanta Hawks</td>\n",
       "      <td>2</td>\n",
       "    </tr>\n",
       "    <tr>\n",
       "      <th>1</th>\n",
       "      <td>Boston Celtics</td>\n",
       "      <td>2</td>\n",
       "    </tr>\n",
       "    <tr>\n",
       "      <th>2</th>\n",
       "      <td>Chicago Bulls</td>\n",
       "      <td>1</td>\n",
       "    </tr>\n",
       "    <tr>\n",
       "      <th>3</th>\n",
       "      <td>Cleveland Cavaliers</td>\n",
       "      <td>1</td>\n",
       "    </tr>\n",
       "    <tr>\n",
       "      <th>4</th>\n",
       "      <td>Dallas Mavericks</td>\n",
       "      <td>2</td>\n",
       "    </tr>\n",
       "    <tr>\n",
       "      <th>5</th>\n",
       "      <td>Denver Nuggets</td>\n",
       "      <td>2</td>\n",
       "    </tr>\n",
       "    <tr>\n",
       "      <th>6</th>\n",
       "      <td>Detroit Pistons</td>\n",
       "      <td>1</td>\n",
       "    </tr>\n",
       "    <tr>\n",
       "      <th>7</th>\n",
       "      <td>Golden State Warriors</td>\n",
       "      <td>1</td>\n",
       "    </tr>\n",
       "    <tr>\n",
       "      <th>8</th>\n",
       "      <td>Houston Rockets</td>\n",
       "      <td>1</td>\n",
       "    </tr>\n",
       "    <tr>\n",
       "      <th>9</th>\n",
       "      <td>Indiana Pacers</td>\n",
       "      <td>1</td>\n",
       "    </tr>\n",
       "    <tr>\n",
       "      <th>10</th>\n",
       "      <td>Los Angeles Clippers</td>\n",
       "      <td>1</td>\n",
       "    </tr>\n",
       "    <tr>\n",
       "      <th>11</th>\n",
       "      <td>Los Angeles Lakers</td>\n",
       "      <td>2</td>\n",
       "    </tr>\n",
       "    <tr>\n",
       "      <th>12</th>\n",
       "      <td>Memphis Grizzlies</td>\n",
       "      <td>1</td>\n",
       "    </tr>\n",
       "    <tr>\n",
       "      <th>13</th>\n",
       "      <td>Miami Heat</td>\n",
       "      <td>1</td>\n",
       "    </tr>\n",
       "    <tr>\n",
       "      <th>14</th>\n",
       "      <td>Minnesota Timberwolves</td>\n",
       "      <td>1</td>\n",
       "    </tr>\n",
       "    <tr>\n",
       "      <th>15</th>\n",
       "      <td>New Jersey Nets</td>\n",
       "      <td>1</td>\n",
       "    </tr>\n",
       "    <tr>\n",
       "      <th>16</th>\n",
       "      <td>Oklahoma City Thunder</td>\n",
       "      <td>1</td>\n",
       "    </tr>\n",
       "    <tr>\n",
       "      <th>17</th>\n",
       "      <td>Orlando Magic</td>\n",
       "      <td>1</td>\n",
       "    </tr>\n",
       "    <tr>\n",
       "      <th>18</th>\n",
       "      <td>Portland Trail Blazers</td>\n",
       "      <td>1</td>\n",
       "    </tr>\n",
       "    <tr>\n",
       "      <th>19</th>\n",
       "      <td>Sacramento Kings</td>\n",
       "      <td>1</td>\n",
       "    </tr>\n",
       "    <tr>\n",
       "      <th>20</th>\n",
       "      <td>San Antonio Spurs</td>\n",
       "      <td>4</td>\n",
       "    </tr>\n",
       "    <tr>\n",
       "      <th>21</th>\n",
       "      <td>Toronto Raptors</td>\n",
       "      <td>1</td>\n",
       "    </tr>\n",
       "  </tbody>\n",
       "</table>\n",
       "</div>"
      ],
      "text/plain": [
       "                      Team  Rewards_Count\n",
       "0            Atlanta Hawks              2\n",
       "1           Boston Celtics              2\n",
       "2            Chicago Bulls              1\n",
       "3      Cleveland Cavaliers              1\n",
       "4         Dallas Mavericks              2\n",
       "5           Denver Nuggets              2\n",
       "6          Detroit Pistons              1\n",
       "7    Golden State Warriors              1\n",
       "8          Houston Rockets              1\n",
       "9           Indiana Pacers              1\n",
       "10    Los Angeles Clippers              1\n",
       "11      Los Angeles Lakers              2\n",
       "12       Memphis Grizzlies              1\n",
       "13              Miami Heat              1\n",
       "14  Minnesota Timberwolves              1\n",
       "15         New Jersey Nets              1\n",
       "16   Oklahoma City Thunder              1\n",
       "17           Orlando Magic              1\n",
       "18  Portland Trail Blazers              1\n",
       "19        Sacramento Kings              1\n",
       "20       San Antonio Spurs              4\n",
       "21         Toronto Raptors              1"
      ]
     },
     "execution_count": 23,
     "metadata": {},
     "output_type": "execute_result"
    }
   ],
   "source": [
    "#Create Playoff Streaks Reward Table - This identifies the total potential rewards for each team\n",
    "Playoff_Streak_Rewards = Playoff_Streaks.groupby(['Team']).agg({'Streak_Begin':'count'})\n",
    "Playoff_Streak_Rewards = Playoff_Streak_Rewards.reset_index()\n",
    "Playoff_Streak_Rewards.columns = ['Team','Rewards_Count']\n",
    "Playoff_Streak_Rewards"
   ]
  },
  {
   "cell_type": "code",
   "execution_count": 24,
   "metadata": {
    "scrolled": true
   },
   "outputs": [
    {
     "name": "stdout",
     "output_type": "stream",
     "text": [
      "Total Rewards: 30\n"
     ]
    }
   ],
   "source": [
    "#Calculate Total Rewards - This is a sum of all rewards\n",
    "Total_Rewards = Playoff_Streak_Rewards.agg({'Rewards_Count':'sum'})\n",
    "Total_Rewards = Total_Rewards.get(key = 'Rewards_Count')\n",
    "print('Total Rewards:',Total_Rewards)"
   ]
  },
  {
   "cell_type": "code",
   "execution_count": 25,
   "metadata": {},
   "outputs": [
    {
     "name": "stdout",
     "output_type": "stream",
     "text": [
      "Reward Opportunity per Team: 4\n"
     ]
    }
   ],
   "source": [
    "#Caluclate Reward Opportunity - This is the max amount of rewards that are possible for a team\n",
    "analysisbegin = data.agg({'Year':'min'})\n",
    "analysisbegin = analysisbegin.get(key = 'Year')\n",
    "analysisend = data.agg({'Year':'max'})\n",
    "analysisend = analysisend.get(key = 'Year')\n",
    "analysisyears = analysisend - analysisbegin +1\n",
    "Reward_Opportunity = analysisyears/Playoff_Streak\n",
    "Reward_Opportunity = math.floor(Reward_Opportunity)\n",
    "print('Reward Opportunity per Team:',Reward_Opportunity)"
   ]
  },
  {
   "cell_type": "code",
   "execution_count": 26,
   "metadata": {},
   "outputs": [
    {
     "name": "stdout",
     "output_type": "stream",
     "text": [
      "Total Potential Rewards: 64\n"
     ]
    }
   ],
   "source": [
    "#Calculate Total Potential Rewards - This is the max amount of rewards that are possible across the NBA\n",
    "Total_Potential_Rewards = Reward_Opportunity*16\n",
    "print('Total Potential Rewards:',Total_Potential_Rewards)"
   ]
  },
  {
   "cell_type": "code",
   "execution_count": 27,
   "metadata": {},
   "outputs": [
    {
     "name": "stdout",
     "output_type": "stream",
     "text": [
      "Percent of Rewards Achieved: 46.9 %\n"
     ]
    }
   ],
   "source": [
    "#Calculate Rewards Achieve Percent - This is the % of rewards that were actually achieved vs what was possible\n",
    "Rewards_Achieve_Pct = Total_Rewards/Total_Potential_Rewards\n",
    "print('Percent of Rewards Achieved:', round((Rewards_Achieve_Pct*100),1),'%')"
   ]
  },
  {
   "cell_type": "code",
   "execution_count": 28,
   "metadata": {},
   "outputs": [
    {
     "name": "stdout",
     "output_type": "stream",
     "text": [
      "Rewards per Year: 1.5\n"
     ]
    }
   ],
   "source": [
    "#Calculate Rewards per Year - This is the amount of rewards in a given year\n",
    "Rewards_per_Year = Total_Rewards/analysisyears\n",
    "print('Rewards per Year:',Rewards_per_Year)"
   ]
  }
 ],
 "metadata": {
  "kernelspec": {
   "display_name": "Python 3",
   "language": "python",
   "name": "python3"
  },
  "language_info": {
   "codemirror_mode": {
    "name": "ipython",
    "version": 3
   },
   "file_extension": ".py",
   "mimetype": "text/x-python",
   "name": "python",
   "nbconvert_exporter": "python",
   "pygments_lexer": "ipython3",
   "version": "3.7.1"
  }
 },
 "nbformat": 4,
 "nbformat_minor": 2
}
